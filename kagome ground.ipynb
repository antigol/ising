{
 "cells": [
  {
   "cell_type": "code",
   "execution_count": 1,
   "metadata": {
    "collapsed": true
   },
   "outputs": [],
   "source": [
    "# copy the lib file in the working directory and load it\n",
    "from shutil import copyfile\n",
    "copyfile('target/release/libising.so', 'ising.so')\n",
    "import ising"
   ]
  },
  {
   "cell_type": "code",
   "execution_count": 2,
   "metadata": {
    "collapsed": true
   },
   "outputs": [],
   "source": [
    "%matplotlib notebook\n",
    "\n",
    "import numpy as np\n",
    "import matplotlib.pyplot as plt\n",
    "import threading\n",
    "import time"
   ]
  },
  {
   "cell_type": "code",
   "execution_count": 4,
   "metadata": {
    "collapsed": true
   },
   "outputs": [],
   "source": [
    "L = 24\n",
    "\n",
    "k_ijl = [(i,j,l) for j in range(2*L) for i in range(2*L) for l in range(3) if (i+j > L-2) and (i+j < 3*L-1)]\n",
    "ijl_k = {}\n",
    "for k, ijl in enumerate(k_ijl):\n",
    "    ijl_k[ijl] = k"
   ]
  },
  {
   "cell_type": "code",
   "execution_count": 5,
   "metadata": {
    "collapsed": true
   },
   "outputs": [],
   "source": [
    "A = [[(0,0), (0,0), (-1,0), (0,-1)], \n",
    "     [(1,-1), (1,0), (0,0), (0,0)], \n",
    "     [(0,1), (-1,1), (0,0), (0,0)]]\n",
    "B = [[1, 2, 1, 2], [2, 0, 2, 0], [0, 1, 0, 1]]\n",
    "\n",
    "nn1 = [[(i + A[l][u][0], j + A[l][u][1], B[l][u]) for u in range(4)] for (i,j,l) in k_ijl]\n",
    "\n",
    "A = [[(-1, 1), (-1, 0), (0, -1), (1, -1)],\n",
    "     [(0, -1), (1, -1), (1, 0), (0, 1)],\n",
    "     [(1, 0), (0, 1), (-1, 1), (-1, 0)]]\n",
    "B = [[1, 2, 1, 2], [2, 0, 2, 0], [0, 1, 0, 1]]\n",
    "\n",
    "nn2 = [[(i + A[l][u][0], j + A[l][u][1], B[l][u]) for u in range(4)] for (i,j,l) in k_ijl]\n",
    "\n",
    "# fixing periodic border conditions \n",
    "def foo(i, j, l):\n",
    "    if i == 2*L:\n",
    "        i = 0\n",
    "        j += L\n",
    "    if j == 2*L:\n",
    "        i += L\n",
    "        j = 0\n",
    "    if i+j == L-2:\n",
    "        i += L\n",
    "        j += L\n",
    "    if i+j == 3*L-1:\n",
    "        i -= L\n",
    "        j -= L\n",
    "    if j == -1:\n",
    "        i -= L\n",
    "        j = 2*L-1\n",
    "    if i == -1:\n",
    "        i = 2*L-1\n",
    "        j -= L\n",
    "    return (i, j, l)\n",
    "\n",
    "nn1 = [[ijl_k[foo(i,j,l)] for (i,j,l) in n] for n in nn1]\n",
    "nn2 = [[ijl_k[foo(i,j,l)] for (i,j,l) in n] for n in nn2]"
   ]
  },
  {
   "cell_type": "code",
   "execution_count": 25,
   "metadata": {
    "collapsed": false
   },
   "outputs": [
    {
     "name": "stdout",
     "output_type": "stream",
     "text": [
      "-0.2341820987654321\n",
      "-1.556712962962963\n",
      "-1.6134259259259258\n",
      "-1.6342592592592593\n",
      "-1.654706790123457\n",
      "-1.6666666666666667\n",
      "-1.6666666666666667\n",
      "-1.6666666666666667\n",
      "-1.6666666666666667\n",
      "-1.6666666666666667\n"
     ]
    }
   ],
   "source": [
    "H = ising.Hamiltonian([(-1, nn1), (0.5, nn2)])\n",
    "\n",
    "x = np.random.randint(0, 2, size=(9 * L * L,), dtype=np.int32) * 2 - 1\n",
    "\n",
    "for beta in np.linspace(0.1, 10, 10):\n",
    "    for _ in range(100):\n",
    "        H.sweep(x, 1 / beta)\n",
    "    print(H.energy(x) / (9 * L * L))"
   ]
  },
  {
   "cell_type": "code",
   "execution_count": null,
   "metadata": {
    "collapsed": true
   },
   "outputs": [],
   "source": []
  }
 ],
 "metadata": {
  "kernelspec": {
   "display_name": "Python 3",
   "language": "python",
   "name": "python3"
  },
  "language_info": {
   "codemirror_mode": {
    "name": "ipython",
    "version": 3
   },
   "file_extension": ".py",
   "mimetype": "text/x-python",
   "name": "python",
   "nbconvert_exporter": "python",
   "pygments_lexer": "ipython3",
   "version": "3.5.3"
  }
 },
 "nbformat": 4,
 "nbformat_minor": 2
}
